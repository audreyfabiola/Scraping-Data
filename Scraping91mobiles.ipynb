{
  "nbformat": 4,
  "nbformat_minor": 0,
  "metadata": {
    "colab": {
      "provenance": []
    },
    "kernelspec": {
      "name": "python3",
      "display_name": "Python 3"
    },
    "language_info": {
      "name": "python"
    }
  },
  "cells": [
    {
      "cell_type": "code",
      "execution_count": 91,
      "metadata": {
        "id": "j0sgMHmJp2B0"
      },
      "outputs": [],
      "source": [
        "from bs4 import BeautifulSoup\n",
        "import requests\n",
        "import re\n",
        "import pandas as pd"
      ]
    },
    {
      "cell_type": "code",
      "source": [
        "# Downloading HTML content from 91mobiles\n",
        "headers = {'Accept-Language': 'en-US,en;q=0.8'}\n",
        "url = 'https://www.91mobiles.com/entertainment/best-movies'\n",
        "response = requests.get(url,headers=headers)\n",
        "soup = BeautifulSoup(response.text, \"html.parser\")"
      ],
      "metadata": {
        "id": "zJ3XTmf4_nBW"
      },
      "execution_count": 113,
      "outputs": []
    },
    {
      "cell_type": "code",
      "source": [
        "# Extract the data\n",
        "movieName = soup.select('a.txt-white.ga_tracking')\n",
        "\n",
        "print(movieName[0])\n",
        "\n",
        "# Counting the elements\n",
        "print(\" \")\n",
        "print(\"how many movies are available?\",len(soup.select('a.txt-white.ga_tracking')))"
      ],
      "metadata": {
        "colab": {
          "base_uri": "https://localhost:8080/"
        },
        "id": "qB3otO4N_rNj",
        "outputId": "fc0481c2-91df-4bf1-ca6d-432b76696f51"
      },
      "execution_count": 114,
      "outputs": [
        {
          "output_type": "stream",
          "name": "stdout",
          "text": [
            "<a class=\"txt-white ga_tracking\" data-action=\"movie-name\" data-category=\"list-widget\" data-label=\"Jailer:/entertainment/best-movies\" href=\"/entertainment/jailer-movie-209549\" title=\"Jailer\">Jailer</a>\n",
            " \n",
            "how many movies are available? 24\n"
          ]
        }
      ]
    },
    {
      "cell_type": "code",
      "source": [
        "movieName = []\n",
        "\n",
        "# Extract movie's name\n",
        "for t in soup.select('a.txt-white.ga_tracking'):\n",
        "  movieName.append(t.get_text())\n",
        "\n",
        "print(movieName)"
      ],
      "metadata": {
        "colab": {
          "base_uri": "https://localhost:8080/"
        },
        "id": "vtINMRiVfuf-",
        "outputId": "cb277252-bda6-497c-ea0d-b5ae77d9d118"
      },
      "execution_count": 144,
      "outputs": [
        {
          "output_type": "stream",
          "name": "stdout",
          "text": [
            "['Jailer', 'Rocky Aur Rani Ki Prem Kahani', 'Satya Prem Ki Katha', 'Spider-man: Across The Spider-verse (part One)', 'No Hard Feelings', 'Por Thozil', 'Barbie ', 'Bro', 'Baby', 'Dungeons & Dragons', 'Guardians Of The Galaxy Vol. 3', 'Pathaan', 'Maaveeran', 'The Flash', 'Indiana Jones 5', 'Shazam! 2', 'Bawaal', 'Super Mario Bros. The Movie', 'John Wick: Chapter 4', 'Dd Returns', 'Avatar 2', \"Are You There God? It's Me, Margaret.\", 'Three Thousand Years Of Longing', 'Transformers: Rise Of The Beasts']\n"
          ]
        }
      ]
    },
    {
      "cell_type": "code",
      "source": [
        "movieLink = []\n",
        "# Extract movie's link\n",
        "for l in soup.select('a.txt-white.ga_tracking'):\n",
        "  movieLink.append('https://www.91mobiles.com' + l.attrs.get('href'))\n",
        "\n",
        "print(movieLink)"
      ],
      "metadata": {
        "colab": {
          "base_uri": "https://localhost:8080/"
        },
        "id": "l5YIDEm5f0rE",
        "outputId": "ef1570b8-6f09-4846-bba9-c4673bafb9b6"
      },
      "execution_count": 145,
      "outputs": [
        {
          "output_type": "stream",
          "name": "stdout",
          "text": [
            "['https://www.91mobiles.com/entertainment/jailer-movie-209549', 'https://www.91mobiles.com/entertainment/rocky-aur-rani-ki-prem-kahani-movie-203591', 'https://www.91mobiles.com/entertainment/satya-prem-ki-katha-movie-212132', 'https://www.91mobiles.com/entertainment/spiderman-across-the-spiderverse-part-one-movie-206581', 'https://www.91mobiles.com/entertainment/no-hard-feelings-movie-212392', 'https://www.91mobiles.com/entertainment/por-thozil-movie-212788', 'https://www.91mobiles.com/entertainment/barbie-movie-184163', 'https://www.91mobiles.com/entertainment/bro-movie-212721', 'https://www.91mobiles.com/entertainment/baby-movie-213150', 'https://www.91mobiles.com/entertainment/dungeons-dragons-movie-186445', 'https://www.91mobiles.com/entertainment/guardians-of-the-galaxy-vol-3-movie-184505', 'https://www.91mobiles.com/entertainment/pathaan-movie-204069', 'https://www.91mobiles.com/entertainment/maaveeran-movie-210295', 'https://www.91mobiles.com/entertainment/the-flash-movie-180784', 'https://www.91mobiles.com/entertainment/indiana-jones-5-movie-180462', 'https://www.91mobiles.com/entertainment/shazam-2-movie-186033', 'https://www.91mobiles.com/entertainment/bawaal-movie-213000', 'https://www.91mobiles.com/entertainment/super-mario-bros-the-movie-movie-187738', 'https://www.91mobiles.com/entertainment/john-wick-chapter-4-movie-186452', 'https://www.91mobiles.com/entertainment/dd-returns-movie-213221', 'https://www.91mobiles.com/entertainment/avatar-2-movie-184270', 'https://www.91mobiles.com/entertainment/are-you-there-god-its-me-margaret-movie-212401', 'https://www.91mobiles.com/entertainment/three-thousand-years-of-longing-movie-209185', 'https://www.91mobiles.com/entertainment/transformers-rise-of-the-beasts-movie-211501']\n"
          ]
        }
      ]
    },
    {
      "cell_type": "code",
      "source": [
        "movieDate = []\n",
        "\n",
        "# Extract movie's released date\n",
        "for link in movieLink:\n",
        "    response_link = requests.get(link, headers=headers)\n",
        "    soup_link = BeautifulSoup(response_link.text, \"html.parser\")\n",
        "    date_elements = soup_link.find_all('span', attrs={'date-release': True})\n",
        "\n",
        "    if date_elements:\n",
        "        for date_element in date_elements:\n",
        "            release_date = date_element['date-release']\n",
        "            movieDate.append(release_date)\n",
        "    else:\n",
        "        movieDate.append('not found')\n",
        "\n",
        "print(movieDate)"
      ],
      "metadata": {
        "colab": {
          "base_uri": "https://localhost:8080/"
        },
        "id": "FU-nzPYJf8aD",
        "outputId": "5ad95eee-ab3f-4960-bc22-aa2953ab2764"
      },
      "execution_count": 146,
      "outputs": [
        {
          "output_type": "stream",
          "name": "stdout",
          "text": [
            "['10 Aug 2023', '28 Jul 2023', '29 Jun 2023', '01 Jun 2023', '23 Jun 2023', '09 Jun 2023', '21 Jul 2023', '28 Jul 2023', '14 Jul 2023', '23 Mar 2023', '27 Apr 2023', '25 Jan 2023', '14 Jul 2023', '15 Jun 2023', '29 Jun 2023', '15 Mar 2023', 'not found', '05 Apr 2023', '13 Mar 2023', '28 Jul 2023', '12 Dec 2022', '24 Mar 2023', '31 Aug 2022', '09 Jun 2023']\n"
          ]
        }
      ]
    },
    {
      "cell_type": "code",
      "source": [
        "movieRatings = []\n",
        "\n",
        "# Extract movie's ratings\n",
        "for link in movieLink:\n",
        "    response_link = requests.get(link, headers=headers)\n",
        "    soup_link = BeautifulSoup(response_link.text, \"html.parser\")\n",
        "\n",
        "    rating_element = soup_link.find('p', class_='value').find_all('span')\n",
        "\n",
        "    if len(rating_element) == 2:\n",
        "        rating_text = '/'.join(span.text for span in rating_element)\n",
        "        movieRatings.append(rating_text)\n",
        "    else:\n",
        "        movieRatings.append('Rating not found')\n",
        "\n",
        "print(movieRatings)"
      ],
      "metadata": {
        "colab": {
          "base_uri": "https://localhost:8080/"
        },
        "id": "rYnEGlsrgC4_",
        "outputId": "41206ce1-31e8-4c0a-c66d-2365ed004363"
      },
      "execution_count": 147,
      "outputs": [
        {
          "output_type": "stream",
          "name": "stdout",
          "text": [
            "['7.2/10', '7/10', '7.3/10', '9/10', '6.4/10', '8/10', '7.8/10', '6.9/10', '7.4/10', '7.3/10', '7.9/10', '6.4/10', '7.4/10', '7/10', '7/10', '6/10', '6.6/10', '7.1/10', '8.6/10', '6.4/10', '7.8/10', '7.4/10', '6.7/10', '6.6/10']\n"
          ]
        }
      ]
    },
    {
      "cell_type": "code",
      "source": [
        "movieTrivia = []\n",
        "\n",
        "# Extract movie's trivia\n",
        "for link in movieLink:\n",
        "    response_link = requests.get(link, headers=headers)\n",
        "    soup_link = BeautifulSoup(response_link.text, \"html.parser\")\n",
        "\n",
        "    story_div = soup_link.find('div', class_='story_d')\n",
        "\n",
        "    if story_div:\n",
        "        story_text = story_div.get_text(strip=True)\n",
        "        movieTrivia.append(story_text)\n",
        "    else:\n",
        "        movieTrivia.append('Description not found')\n",
        "\n",
        "print(movieTrivia)"
      ],
      "metadata": {
        "colab": {
          "base_uri": "https://localhost:8080/"
        },
        "id": "YM1AKhpmgK1O",
        "outputId": "78a46023-f73e-4da5-91f4-d88107e2b537"
      },
      "execution_count": 148,
      "outputs": [
        {
          "output_type": "stream",
          "name": "stdout",
          "text": [
            "['Rajinikanth and Ramya Krishnan paired after Padaiyappa(1999), 24 years after for this movie jailer. Anyway Ramya Krishnan did a cameo role in Baba(2002) movie which was 21 years ago.', 'Karan Johar temporarily shelved his big budget Takht and started working on this film fearing viewers backlash.', 'The film was announced as Satyanaryan Ki Katha but fearing religious backlash the makers changed the title to Satyaprem Ki Katha.', 'Will take place across six dimensions, with 240 characters in it, with over 1,000 animators working on it.', 'Jennifer Lawrence described her experience working alongside Andrew Barth Feldman as akin to working with Christian Bale, due to their improvisational abilities.', 'Description not found', 'Despite fan expectations, Aqua\\'s iconic single \"Barbie Girl\" will not be featured in the film according to the band\\'s manager. Mattel has a bad legal history with the band over the song, and unsuccessfully tried to sue the band over the song for \"copyright infringement\" only for Aqua to win against the lawsuit as their single was a parody and protected under fair use.', 'Description not found', 'Description not found', 'The movie is set in the Forgotten Realms.', 'After James Gunn was fired as director, actor Dave Bautista (Drax) became one of Gunn\\'s most vocal supporters, tweeting that \"James Gunn is one of the most loving, caring, good natured people I have ever met. He\\'s gentle and kind and cares deeply for people and animals. He\\'s made mistakes. We all have. Im NOT ok with what\\'s happening to him.\" Bautista even stated that he would demand to be released from his contract if the studio did not use the screenplay Gunn had originally written for this film. Gunn was later re-hired.', 'The action scenes in Pathaan are inspired from WWE wrestling moves. Shah Rukh Khan\\'s kick was taken from Shawn Michaels \"Sweet Chin Music\". John Abraham\\'s punch was taken from Roman Reigns \"Superman Punch\".', 'Description not found', \"The film will reportedly ignore the events of Batman Forever (1995) and Batman & Robin (1997) and come up with new stories about Michael Keaton's Batman to fill the gap between Batman Returns (1992) and this film.\", 'John Rhys-Davies had expressed interest in reprising his role as Sallah from Indiana Jones and the Raiders of the Lost Ark (1981) and Indiana Jones and the Last Crusade (1989). It was revealed in 2022 that he would indeed appear in the film.', \"Grace Caroline Currey who plays Mary Bromfield will also play her adult superhero form, replacing Michelle Borth from the first film. According to director David F. Sandberg, Fulton is now playing both parts but her hair and makeup are slightly different when she's super so nobody will ever recognize her.\", \"This is the first time that the two actors, Varun Dhawan and Janhvi Kapoor, paired up for a film. Also, Bawaal is the most expensive film of Varun Dhawan's career.\", \"On the August 4, 2021 edition of Bert Kreischer's Bertcast's podcast (2012), stand-up comedian/actor Sebastian Maniscalco mentioned that he will be voicing Spike, and mentioned that the feature will be animated.\", 'The film was announced with a text message: \"You have served. You will be of service. John Wick: Chapter 4 is coming - May 21st, 2021.\"', 'Description not found', \"Kate Winslet broke Tom Cruise's underwater filming record from Mission: Impossible - Rogue Nation (2015) of six minutes with a record of seven minutes and 14 seconds.\", \"First published in 1970, the novel Are You There God? It's Me, Margaret by Judy Blume is considered a children's classic. It has never been out of print since its initial publication; in 2010, Time Magazine put it on a list of the 100 best novels published since 1923, and in 2012 it made Scholastic Parent & Child Magazine's list of 100 Greatest Books for Kids. However, starting almost from its first publication, it has long also been one of the most challenged and banned books in America: parents, administrators, and politicians have often tried to get the book removed from school libraries and reading lists both because of its honest examination of puberty and menstruation and because it depicts a girl who is given the freedom to decide for herself what religion she is interested in adhering to.\", \"Cinematographer John Seale came out of retirement for the second time to shoot this movie. He'd previously done so in 2012 to shoot George Miller's previous film Mad Max: Fury Road (2015).\", \"Part of the film's plot takes inspiration from the TV series Beast Wars: Transformers (1996), which features the Maximals and Predacons, descendants of the Autobots and Decepticons, who can transform into different animals and creatures.\"]\n"
          ]
        }
      ]
    },
    {
      "cell_type": "code",
      "source": [
        "movieMusic = []\n",
        "\n",
        "# Extract movie's music\n",
        "for link in movieLink:\n",
        "    response_link = requests.get(link, headers=headers)\n",
        "    soup_link = BeautifulSoup(response_link.text, \"html.parser\")\n",
        "\n",
        "    list_items = soup_link.select('div.song_list ul li:nth-of-type(2)')\n",
        "\n",
        "    if list_items:\n",
        "        title_text = list_items[0].get_text(strip=True)\n",
        "        movieMusic.append(title_text)\n",
        "    else:\n",
        "      movieMusic.append('Music not found')\n",
        "\n",
        "print(movieMusic)\n"
      ],
      "metadata": {
        "colab": {
          "base_uri": "https://localhost:8080/"
        },
        "id": "XGEvBxsGgRr9",
        "outputId": "9cd02fd8-1d45-4f3f-b3dc-acae1ae2216a"
      },
      "execution_count": 161,
      "outputs": [
        {
          "output_type": "stream",
          "name": "stdout",
          "text": [
            "['Kaavaalaa', 'Tum Kya Mile', 'Naseeb Se', 'Music not found', 'Music not found', 'Tharum Anbaale', 'Pink', 'Jaanavule', 'Music not found', 'Music not found', 'Music not found', 'Besharam Rang', 'Vaa Veera', 'Are You Actively Eating That Candy Bar?', 'Prologue to Indiana Jones and the Dial of Destiny', 'Music not found', 'Tumhe Kitna Pyaar Karte', 'Bowser - Peaches', 'Big Wick Energy', 'Music not found', 'Music not found', 'Music not found', 'Music not found', 'The Maximals - (from \"Transformers: Rise of the Beasts\" Music from the Motion Picture)']\n"
          ]
        }
      ]
    },
    {
      "cell_type": "code",
      "source": [
        "df = pd.DataFrame(\n",
        "    {'Movie Name 🎬': movieName,\n",
        "     'Movie Link 🔗': movieLink,\n",
        "     'Movie Date 🗓️': movieDate,\n",
        "     'Movie Ratings ⭐': movieRatings,\n",
        "     'Movie Trivia 🤔': movieTrivia,\n",
        "     'Movie Music 🎵': movieMusic}\n",
        "    )\n",
        "\n",
        "print (df.head())\n",
        "\n",
        "df.to_csv('91mobiles.csv', index=False)"
      ],
      "metadata": {
        "colab": {
          "base_uri": "https://localhost:8080/"
        },
        "id": "QTRkEKAEhSW_",
        "outputId": "34bc390a-6cf7-42bc-e1cb-2f87ff339184"
      },
      "execution_count": 163,
      "outputs": [
        {
          "output_type": "stream",
          "name": "stdout",
          "text": [
            "                                     Movie Name 🎬  \\\n",
            "0                                          Jailer   \n",
            "1                   Rocky Aur Rani Ki Prem Kahani   \n",
            "2                             Satya Prem Ki Katha   \n",
            "3  Spider-man: Across The Spider-verse (part One)   \n",
            "4                                No Hard Feelings   \n",
            "\n",
            "                                        Movie Link 🔗 Movie Date 🗓️  \\\n",
            "0  https://www.91mobiles.com/entertainment/jailer...   10 Aug 2023   \n",
            "1  https://www.91mobiles.com/entertainment/rocky-...   28 Jul 2023   \n",
            "2  https://www.91mobiles.com/entertainment/satya-...   29 Jun 2023   \n",
            "3  https://www.91mobiles.com/entertainment/spider...   01 Jun 2023   \n",
            "4  https://www.91mobiles.com/entertainment/no-har...   23 Jun 2023   \n",
            "\n",
            "  Movie Ratings ⭐                                     Movie Trivia 🤔  \\\n",
            "0          7.2/10  Rajinikanth and Ramya Krishnan paired after Pa...   \n",
            "1            7/10  Karan Johar temporarily shelved his big budget...   \n",
            "2          7.3/10  The film was announced as Satyanaryan Ki Katha...   \n",
            "3            9/10  Will take place across six dimensions, with 24...   \n",
            "4          6.4/10  Jennifer Lawrence described her experience wor...   \n",
            "\n",
            "     Movie Music 🎵  \n",
            "0        Kaavaalaa  \n",
            "1     Tum Kya Mile  \n",
            "2        Naseeb Se  \n",
            "3  Music not found  \n",
            "4  Music not found  \n"
          ]
        }
      ]
    }
  ]
}