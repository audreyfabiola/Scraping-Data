{
  "nbformat": 4,
  "nbformat_minor": 0,
  "metadata": {
    "colab": {
      "provenance": []
    },
    "kernelspec": {
      "name": "python3",
      "display_name": "Python 3"
    },
    "language_info": {
      "name": "python"
    }
  },
  "cells": [
    {
      "cell_type": "code",
      "source": [
        "from bs4 import BeautifulSoup\n",
        "import requests\n",
        "import re\n",
        "import pandas as pd"
      ],
      "metadata": {
        "id": "cy5VxIE2Y_9c"
      },
      "execution_count": null,
      "outputs": []
    },
    {
      "cell_type": "code",
      "source": [
        "# Downloading HTML content from Goodreads\n",
        "headers = {'Accept-Language': 'en-US,en;q=0.8'}\n",
        "url = 'https://www.goodreads.com/list/show/1.Best_Books_Ever'\n",
        "response = requests.get(url,headers=headers)\n",
        "soup = BeautifulSoup(response.text, \"html.parser\")"
      ],
      "metadata": {
        "id": "CILwRrZDK22Q"
      },
      "execution_count": null,
      "outputs": []
    },
    {
      "cell_type": "code",
      "source": [
        "# Extract the data\n",
        "bookTitle = soup.select('a.bookTitle')\n",
        "bookAuthor = soup.select('a.authorName')\n",
        "bookRank = soup.select('td.number')\n",
        "\n",
        "print(bookTitle[0])\n",
        "print(bookAuthor[1])\n",
        "print(bookRank[2])\n",
        "\n",
        "# Counting the elements\n",
        "print(\" \")\n",
        "print(\"how many titles are available?\",len(soup.select('a.bookTitle')))\n",
        "print(\"how many authors are available?\",len(soup.select('a.authorName')))\n",
        "print(\"how many ranks are available?\",len(soup.select('td.number')))"
      ],
      "metadata": {
        "colab": {
          "base_uri": "https://localhost:8080/"
        },
        "id": "31opdaSnZFkI",
        "outputId": "32e915de-7852-437b-caec-1fef104e1e48"
      },
      "execution_count": 112,
      "outputs": [
        {
          "output_type": "stream",
          "name": "stdout",
          "text": [
            "<a class=\"bookTitle\" href=\"/book/show/2767052-the-hunger-games\" itemprop=\"url\">\n",
            "<span aria-level=\"4\" itemprop=\"name\" role=\"heading\">The Hunger Games (The Hunger Games, #1)</span>\n",
            "</a>\n",
            "<a class=\"authorName\" href=\"https://www.goodreads.com/author/show/1077326.J_K_Rowling\" itemprop=\"url\"><span itemprop=\"name\">J.K. Rowling</span></a>\n",
            "<td class=\"number\" valign=\"top\">3</td>\n",
            " \n",
            "how many titles are available? 100\n",
            "how many authors are available? 100\n",
            "how many ranks are available? 100\n"
          ]
        }
      ]
    },
    {
      "cell_type": "code",
      "source": [
        "bookTitle = []\n",
        "\n",
        "# Extract book's title\n",
        "for t in soup.select('a.bookTitle'):\n",
        "  bookTitle.append(t.get_text())\n",
        "\n",
        "print(bookTitle)"
      ],
      "metadata": {
        "colab": {
          "base_uri": "https://localhost:8080/"
        },
        "id": "63q5tNvIe1DJ",
        "outputId": "b37ed9d8-0f7a-43b4-c7c5-a1d5a6b336b3"
      },
      "execution_count": 130,
      "outputs": [
        {
          "output_type": "stream",
          "name": "stdout",
          "text": [
            "['\\nThe Hunger Games (The Hunger Games, #1)\\n', '\\nHarry Potter and the Order of the Phoenix (Harry Potter, #5)\\n', '\\nPride and Prejudice\\n', '\\nTo Kill a Mockingbird\\n', '\\nThe Book Thief\\n', '\\nTwilight (The Twilight Saga, #1)\\n', '\\nAnimal Farm\\n', '\\nJ.R.R. Tolkien 4-Book Boxed Set: The Hobbit and The Lord of the Rings\\n', '\\nThe Chronicles of Narnia (The Chronicles of Narnia, #1-7)\\n', '\\nThe Fault in Our Stars\\n', '\\nThe Picture of Dorian Gray\\n', '\\nGone with the Wind\\n', '\\nThe Giving Tree\\n', '\\nWuthering Heights\\n', '\\nThe Perks of Being a Wallflower\\n', '\\nJane Eyre\\n', '\\nThe Da Vinci Code (Robert Langdon, #2)\\n', '\\nThe Great Gatsby\\n', '\\nThe Little Prince\\n', '\\nThe Lightning Thief (Percy Jackson and the Olympians, #1)\\n', \"\\nAlice's Adventures in Wonderland / Through the Looking-Glass\\n\", '\\nMemoirs of a Geisha\\n', '\\nDivergent (Divergent, #1)\\n', '\\nCrime and Punishment\\n', '\\nLes Misérables\\n', '\\nLord of the Flies\\n', '\\nRomeo and Juliet\\n', '\\nAnne of Green Gables (Anne of Green Gables, #1)\\n', '\\nCity of Bones (The Mortal Instruments, #1)\\n', '\\nThe Help\\n', \"\\nEnder’s Game (Ender's Saga, #1)\\n\", '\\nDracula\\n', \"\\nCharlotte's Web\\n\", '\\nOf Mice and Men\\n', \"\\nThe Hitchhiker's Guide to the Galaxy (Hitchhiker's Guide to the Galaxy, #1)\\n\", '\\nThe Alchemist\\n', '\\nThe Catcher in the Rye\\n', '\\nFahrenheit 451\\n', '\\nBrave New World\\n', '\\nOne Hundred Years of Solitude\\n', \"\\nThe Time Traveler's Wife\\n\", '\\nA Thousand Splendid Suns\\n', '\\nThe Princess Bride\\n', '\\nThe Secret Garden\\n', \"\\nHarry Potter and the Sorcerer's Stone (Harry Potter, #1)\\n\", '\\nA Game of Thrones\\n', '\\nThe Outsiders\\n', '\\nA Wrinkle in Time (Time Quintet, #1)\\n', '\\nLittle Women\\n', '\\n1984\\n', '\\nThe Odyssey\\n', '\\nThe Kite Runner\\n', '\\nFrankenstein: The 1818 Text\\n', '\\nThe Lovely Bones\\n', '\\nThe Adventures of Huckleberry Finn\\n', '\\nWhere the Wild Things Are\\n', '\\nHarry Potter and the Deathly Hallows (Harry Potter, #7)\\n', '\\nGreen Eggs and Ham\\n', '\\nThe Giver (The Giver, #1)\\n', \"\\nThe Handmaid’s Tale (The Handmaid's Tale, #1)\\n\", '\\nLife of Pi\\n', '\\nA Tale of Two Cities\\n', '\\nLolita\\n', '\\nDune (Dune, #1)\\n', '\\nSlaughterhouse-Five\\n', '\\nWater for Elephants\\n', '\\nHarry Potter and the Prisoner of Azkaban (Harry Potter, #3)\\n', '\\nThe Bell Jar\\n', '\\nThe Stand\\n', '\\nMatilda\\n', '\\nCatch-22\\n', '\\nThe Pillars of the Earth (Kingsbridge, #1)\\n', '\\nThe Adventures of Sherlock Holmes (Sherlock Holmes, #3)\\n', '\\nWatership Down (Watership Down, #1)\\n', '\\nGreat Expectations\\n', '\\nRebecca\\n', '\\nHarry Potter and the Philosopher’s Stone (Harry Potter, #1)\\n', '\\nOutlander (Outlander, #1)\\n', '\\nThe Girl with the Dragon Tattoo (Millennium, #1)\\n', '\\nThe Color Purple\\n', \"\\nOne Flew Over the Cuckoo's Nest\\n\", '\\nThe Fellowship of the Ring (The Lord of the Rings, #1)\\n', \"\\nMy Sister's Keeper\\n\", '\\nAnna Karenina\\n', '\\nThe Brothers Karamazov\\n', '\\nA Tree Grows in Brooklyn\\n', '\\nA Clockwork Orange\\n', '\\nThe Road\\n', '\\nAnd Then There Were None\\n', \"\\nAngela's Ashes (Frank McCourt, #1)\\n\", '\\nThe Golden Compass (His Dark Materials, #1)\\n', '\\nVampire Academy (Vampire Academy, #1)\\n', '\\nSiddhartha\\n', '\\nTo Kill a Mockingbird\\n', '\\nIt\\n', '\\nThe Shining (The Shining, #1)\\n', '\\nThe Complete Stories and Poems\\n', '\\nInterview with the Vampire (The Vampire Chronicles, #1)\\n', '\\nDon Quixote\\n', '\\nThe Poisonwood Bible\\n']\n"
          ]
        }
      ]
    },
    {
      "cell_type": "code",
      "source": [
        "bookRank = []\n",
        "\n",
        "# Extract book's rank\n",
        "for r in soup.select('td.number'):\n",
        "  bookRank.append(r.get_text())\n",
        "\n",
        "print(bookRank)"
      ],
      "metadata": {
        "colab": {
          "base_uri": "https://localhost:8080/"
        },
        "id": "mHaDcIMEets4",
        "outputId": "327e726c-e625-4499-df2d-c1835703487a"
      },
      "execution_count": 131,
      "outputs": [
        {
          "output_type": "stream",
          "name": "stdout",
          "text": [
            "['1', '2', '3', '4', '5', '6', '7', '8', '9', '10', '11', '12', '13', '14', '15', '16', '17', '18', '19', '20', '21', '22', '23', '24', '25', '26', '27', '28', '29', '30', '31', '32', '33', '34', '35', '36', '37', '38', '39', '40', '41', '42', '43', '44', '45', '46', '47', '48', '49', '50', '51', '52', '53', '54', '55', '56', '57', '58', '59', '60', '61', '62', '63', '64', '65', '66', '67', '68', '69', '70', '71', '72', '73', '74', '75', '76', '77', '78', '79', '80', '81', '82', '83', '84', '85', '86', '87', '88', '89', '90', '91', '92', '93', '94', '95', '96', '97', '98', '99', '100']\n"
          ]
        }
      ]
    },
    {
      "cell_type": "code",
      "source": [
        "bookLink = []\n",
        "\n",
        "# Extract book's link\n",
        "for l in soup.select('a.bookTitle'):\n",
        "  bookLink.append('https://www.goodreads.com/' + l.attrs.get('href'))\n",
        "\n",
        "print(bookLink)"
      ],
      "metadata": {
        "colab": {
          "base_uri": "https://localhost:8080/"
        },
        "id": "yvM1906ue7gW",
        "outputId": "fed64591-5e7c-4daf-8c71-ab3cdcac9d8a"
      },
      "execution_count": 129,
      "outputs": [
        {
          "output_type": "stream",
          "name": "stdout",
          "text": [
            "['https://www.goodreads.com//book/show/2767052-the-hunger-games', 'https://www.goodreads.com//book/show/2.Harry_Potter_and_the_Order_of_the_Phoenix', 'https://www.goodreads.com//book/show/1885.Pride_and_Prejudice', 'https://www.goodreads.com//book/show/2657.To_Kill_a_Mockingbird', 'https://www.goodreads.com//book/show/19063.The_Book_Thief', 'https://www.goodreads.com//book/show/41865.Twilight', 'https://www.goodreads.com//book/show/170448.Animal_Farm', 'https://www.goodreads.com//book/show/30.J_R_R_Tolkien_4_Book_Boxed_Set', 'https://www.goodreads.com//book/show/11127.The_Chronicles_of_Narnia', 'https://www.goodreads.com//book/show/11870085-the-fault-in-our-stars', 'https://www.goodreads.com//book/show/5297.The_Picture_of_Dorian_Gray', 'https://www.goodreads.com//book/show/18405.Gone_with_the_Wind', 'https://www.goodreads.com//book/show/370493.The_Giving_Tree', 'https://www.goodreads.com//book/show/6185.Wuthering_Heights', 'https://www.goodreads.com//book/show/22628.The_Perks_of_Being_a_Wallflower', 'https://www.goodreads.com//book/show/10210.Jane_Eyre', 'https://www.goodreads.com//book/show/968.The_Da_Vinci_Code', 'https://www.goodreads.com//book/show/4671.The_Great_Gatsby', 'https://www.goodreads.com//book/show/157993.The_Little_Prince', 'https://www.goodreads.com//book/show/28187.The_Lightning_Thief', 'https://www.goodreads.com//book/show/24213.Alice_s_Adventures_in_Wonderland_Through_the_Looking_Glass', 'https://www.goodreads.com//book/show/929.Memoirs_of_a_Geisha', 'https://www.goodreads.com//book/show/13335037-divergent', 'https://www.goodreads.com//book/show/7144.Crime_and_Punishment', 'https://www.goodreads.com//book/show/24280.Les_Mis_rables', 'https://www.goodreads.com//book/show/7624.Lord_of_the_Flies', 'https://www.goodreads.com//book/show/18135.Romeo_and_Juliet', 'https://www.goodreads.com//book/show/8127.Anne_of_Green_Gables', 'https://www.goodreads.com//book/show/256683.City_of_Bones', 'https://www.goodreads.com//book/show/4667024-the-help', 'https://www.goodreads.com//book/show/375802.Ender_s_Game', 'https://www.goodreads.com//book/show/17245.Dracula', 'https://www.goodreads.com//book/show/24178.Charlotte_s_Web', 'https://www.goodreads.com//book/show/890.Of_Mice_and_Men', 'https://www.goodreads.com//book/show/11.The_Hitchhiker_s_Guide_to_the_Galaxy', 'https://www.goodreads.com//book/show/18144590-the-alchemist', 'https://www.goodreads.com//book/show/5107.The_Catcher_in_the_Rye', 'https://www.goodreads.com//book/show/13079982-fahrenheit-451', 'https://www.goodreads.com//book/show/5129.Brave_New_World', 'https://www.goodreads.com//book/show/320.One_Hundred_Years_of_Solitude', 'https://www.goodreads.com//book/show/18619684-the-time-traveler-s-wife', 'https://www.goodreads.com//book/show/128029.A_Thousand_Splendid_Suns', 'https://www.goodreads.com//book/show/21787.The_Princess_Bride', 'https://www.goodreads.com//book/show/2998.The_Secret_Garden', 'https://www.goodreads.com//book/show/3.Harry_Potter_and_the_Sorcerer_s_Stone', 'https://www.goodreads.com//book/show/13496.A_Game_of_Thrones', 'https://www.goodreads.com//book/show/231804.The_Outsiders', 'https://www.goodreads.com//book/show/33574273-a-wrinkle-in-time', 'https://www.goodreads.com//book/show/1934.Little_Women', 'https://www.goodreads.com//book/show/40961427-1984', 'https://www.goodreads.com//book/show/1381.The_Odyssey', 'https://www.goodreads.com//book/show/77203.The_Kite_Runner', 'https://www.goodreads.com//book/show/35031085-frankenstein', 'https://www.goodreads.com//book/show/12232938-the-lovely-bones', 'https://www.goodreads.com//book/show/2956.The_Adventures_of_Huckleberry_Finn', 'https://www.goodreads.com//book/show/19543.Where_the_Wild_Things_Are', 'https://www.goodreads.com//book/show/136251.Harry_Potter_and_the_Deathly_Hallows', 'https://www.goodreads.com//book/show/23772.Green_Eggs_and_Ham', 'https://www.goodreads.com//book/show/3636.The_Giver', 'https://www.goodreads.com//book/show/38447.The_Handmaid_s_Tale', 'https://www.goodreads.com//book/show/4214.Life_of_Pi', 'https://www.goodreads.com//book/show/1953.A_Tale_of_Two_Cities', 'https://www.goodreads.com//book/show/7604.Lolita', 'https://www.goodreads.com//book/show/44767458-dune', 'https://www.goodreads.com//book/show/4981.Slaughterhouse_Five', 'https://www.goodreads.com//book/show/43641.Water_for_Elephants', 'https://www.goodreads.com//book/show/5.Harry_Potter_and_the_Prisoner_of_Azkaban', 'https://www.goodreads.com//book/show/6514.The_Bell_Jar', 'https://www.goodreads.com//book/show/149267.The_Stand', 'https://www.goodreads.com//book/show/39988.Matilda', 'https://www.goodreads.com//book/show/168668.Catch_22', 'https://www.goodreads.com//book/show/5043.The_Pillars_of_the_Earth', 'https://www.goodreads.com//book/show/3590.The_Adventures_of_Sherlock_Holmes', 'https://www.goodreads.com//book/show/76620.Watership_Down', 'https://www.goodreads.com//book/show/2623.Great_Expectations', 'https://www.goodreads.com//book/show/17899948-rebecca', 'https://www.goodreads.com//book/show/72193.Harry_Potter_and_the_Philosopher_s_Stone', 'https://www.goodreads.com//book/show/10964.Outlander', 'https://www.goodreads.com//book/show/2429135.The_Girl_with_the_Dragon_Tattoo', 'https://www.goodreads.com//book/show/52892857-the-color-purple', 'https://www.goodreads.com//book/show/332613.One_Flew_Over_the_Cuckoo_s_Nest', 'https://www.goodreads.com//book/show/61215351-the-fellowship-of-the-ring', 'https://www.goodreads.com//book/show/10917.My_Sister_s_Keeper', 'https://www.goodreads.com//book/show/15823480-anna-karenina', 'https://www.goodreads.com//book/show/4934.The_Brothers_Karamazov', 'https://www.goodreads.com//book/show/14891.A_Tree_Grows_in_Brooklyn', 'https://www.goodreads.com//book/show/41817486-a-clockwork-orange', 'https://www.goodreads.com//book/show/6288.The_Road', 'https://www.goodreads.com//book/show/16299.And_Then_There_Were_None', 'https://www.goodreads.com//book/show/252577.Angela_s_Ashes', 'https://www.goodreads.com//book/show/119322.The_Golden_Compass', 'https://www.goodreads.com//book/show/345627.Vampire_Academy', 'https://www.goodreads.com//book/show/52036.Siddhartha', 'https://www.goodreads.com//book/show/2654.To_Kill_a_Mockingbird', 'https://www.goodreads.com//book/show/830502.It', 'https://www.goodreads.com//book/show/11588.The_Shining', 'https://www.goodreads.com//book/show/23919.The_Complete_Stories_and_Poems', 'https://www.goodreads.com//book/show/43763.Interview_with_the_Vampire', 'https://www.goodreads.com//book/show/3836.Don_Quixote', 'https://www.goodreads.com//book/show/7244.The_Poisonwood_Bible']\n"
          ]
        }
      ]
    },
    {
      "cell_type": "code",
      "source": [
        "authorName = []\n",
        "\n",
        "# Extract author's name\n",
        "for a in soup.select('a.authorName'):\n",
        "  authorName.append(a.get_text())\n",
        "\n",
        "print(authorName)"
      ],
      "metadata": {
        "colab": {
          "base_uri": "https://localhost:8080/"
        },
        "id": "nBY-SJA7fC5a",
        "outputId": "70238cd3-7c6d-4fb2-be54-857b143e764b"
      },
      "execution_count": 133,
      "outputs": [
        {
          "output_type": "stream",
          "name": "stdout",
          "text": [
            "['Suzanne Collins', 'J.K. Rowling', 'Jane Austen', 'Harper Lee', 'Markus Zusak', 'Stephenie Meyer', 'George Orwell', 'J.R.R. Tolkien', 'C.S. Lewis', 'John Green', 'Oscar Wilde', 'Margaret Mitchell', 'Shel Silverstein', 'Emily Brontë', 'Stephen Chbosky', 'Charlotte Brontë', 'Dan Brown', 'F. Scott Fitzgerald', 'Antoine de Saint-Exupéry', 'Rick Riordan', 'Lewis Carroll', 'Arthur Golden', 'Veronica Roth', 'Fyodor Dostoevsky', 'Victor Hugo', 'William Golding', 'William Shakespeare', 'L.M. Montgomery', 'Cassandra Clare', 'Kathryn Stockett', 'Orson Scott Card', 'Bram Stoker', 'E.B. White', 'John Steinbeck', 'Douglas Adams', 'Paulo Coelho', 'J.D. Salinger', 'Ray Bradbury', 'Aldous Huxley', 'Gabriel García Márquez', 'Audrey Niffenegger', 'Khaled Hosseini', 'William Goldman', 'Frances Hodgson Burnett', 'J.K. Rowling', 'George R.R. Martin', 'S.E. Hinton', \"Madeleine L'Engle\", 'Louisa May Alcott', 'George Orwell', 'Homer', 'Khaled Hosseini', 'Mary Wollstonecraft Shelley', 'Alice Sebold', 'Mark Twain', 'Maurice Sendak', 'J.K. Rowling', 'Dr. Seuss', 'Lois Lowry', 'Margaret Atwood', 'Yann Martel', 'Charles Dickens', 'Vladimir Nabokov', 'Frank Herbert', 'Kurt Vonnegut Jr.', 'Sara Gruen', 'J.K. Rowling', 'Sylvia Plath', 'Stephen King', 'Roald Dahl', 'Joseph Heller', 'Ken Follett', 'Arthur Conan Doyle', 'Richard  Adams', 'Charles Dickens', 'Daphne du Maurier', 'J.K. Rowling', 'Diana Gabaldon', 'Stieg Larsson', 'Alice Walker', 'Ken Kesey', 'J.R.R. Tolkien', 'Jodi Picoult', 'Leo Tolstoy', 'Fyodor Dostoevsky', 'Betty  Smith', 'Anthony Burgess', 'Cormac McCarthy', 'Agatha Christie', 'Frank McCourt', 'Philip Pullman', 'Richelle Mead', 'Hermann Hesse', 'Harper Lee', 'Stephen King', 'Stephen King', 'Edgar Allan Poe', 'Anne Rice', 'Miguel de Cervantes Saavedra', 'Barbara Kingsolver']\n"
          ]
        }
      ]
    },
    {
      "cell_type": "code",
      "source": [
        "authorLink = []\n",
        "\n",
        "# Extract author's link\n",
        "for p in soup.select('a.authorName'):\n",
        "  authorLink.append(p.attrs.get('href'))\n",
        "\n",
        "print(authorLink)"
      ],
      "metadata": {
        "colab": {
          "base_uri": "https://localhost:8080/"
        },
        "id": "cYX2le2xfZTz",
        "outputId": "ec376b84-2188-4f93-825d-421697ed4446"
      },
      "execution_count": 134,
      "outputs": [
        {
          "output_type": "stream",
          "name": "stdout",
          "text": [
            "['https://www.goodreads.com/author/show/153394.Suzanne_Collins', 'https://www.goodreads.com/author/show/1077326.J_K_Rowling', 'https://www.goodreads.com/author/show/1265.Jane_Austen', 'https://www.goodreads.com/author/show/1825.Harper_Lee', 'https://www.goodreads.com/author/show/11466.Markus_Zusak', 'https://www.goodreads.com/author/show/941441.Stephenie_Meyer', 'https://www.goodreads.com/author/show/3706.George_Orwell', 'https://www.goodreads.com/author/show/656983.J_R_R_Tolkien', 'https://www.goodreads.com/author/show/1069006.C_S_Lewis', 'https://www.goodreads.com/author/show/1406384.John_Green', 'https://www.goodreads.com/author/show/3565.Oscar_Wilde', 'https://www.goodreads.com/author/show/11081.Margaret_Mitchell', 'https://www.goodreads.com/author/show/435477.Shel_Silverstein', 'https://www.goodreads.com/author/show/4191.Emily_Bront_', 'https://www.goodreads.com/author/show/12898.Stephen_Chbosky', 'https://www.goodreads.com/author/show/1036615.Charlotte_Bront_', 'https://www.goodreads.com/author/show/630.Dan_Brown', 'https://www.goodreads.com/author/show/3190.F_Scott_Fitzgerald', 'https://www.goodreads.com/author/show/1020792.Antoine_de_Saint_Exup_ry', 'https://www.goodreads.com/author/show/15872.Rick_Riordan', 'https://www.goodreads.com/author/show/8164.Lewis_Carroll', 'https://www.goodreads.com/author/show/614.Arthur_Golden', 'https://www.goodreads.com/author/show/4039811.Veronica_Roth', 'https://www.goodreads.com/author/show/3137322.Fyodor_Dostoevsky', 'https://www.goodreads.com/author/show/13661.Victor_Hugo', 'https://www.goodreads.com/author/show/306.William_Golding', 'https://www.goodreads.com/author/show/947.William_Shakespeare', 'https://www.goodreads.com/author/show/5350.L_M_Montgomery', 'https://www.goodreads.com/author/show/150038.Cassandra_Clare', 'https://www.goodreads.com/author/show/1943477.Kathryn_Stockett', 'https://www.goodreads.com/author/show/589.Orson_Scott_Card', 'https://www.goodreads.com/author/show/6988.Bram_Stoker', 'https://www.goodreads.com/author/show/988142.E_B_White', 'https://www.goodreads.com/author/show/585.John_Steinbeck', 'https://www.goodreads.com/author/show/4.Douglas_Adams', 'https://www.goodreads.com/author/show/566.Paulo_Coelho', 'https://www.goodreads.com/author/show/819789.J_D_Salinger', 'https://www.goodreads.com/author/show/1630.Ray_Bradbury', 'https://www.goodreads.com/author/show/3487.Aldous_Huxley', 'https://www.goodreads.com/author/show/13450.Gabriel_Garc_a_M_rquez', 'https://www.goodreads.com/author/show/498072.Audrey_Niffenegger', 'https://www.goodreads.com/author/show/569.Khaled_Hosseini', 'https://www.goodreads.com/author/show/12521.William_Goldman', 'https://www.goodreads.com/author/show/2041.Frances_Hodgson_Burnett', 'https://www.goodreads.com/author/show/1077326.J_K_Rowling', 'https://www.goodreads.com/author/show/346732.George_R_R_Martin', 'https://www.goodreads.com/author/show/762707.S_E_Hinton', 'https://www.goodreads.com/author/show/106.Madeleine_L_Engle', 'https://www.goodreads.com/author/show/1315.Louisa_May_Alcott', 'https://www.goodreads.com/author/show/3706.George_Orwell', 'https://www.goodreads.com/author/show/903.Homer', 'https://www.goodreads.com/author/show/569.Khaled_Hosseini', 'https://www.goodreads.com/author/show/11139.Mary_Wollstonecraft_Shelley', 'https://www.goodreads.com/author/show/316.Alice_Sebold', 'https://www.goodreads.com/author/show/1244.Mark_Twain', 'https://www.goodreads.com/author/show/4489.Maurice_Sendak', 'https://www.goodreads.com/author/show/1077326.J_K_Rowling', 'https://www.goodreads.com/author/show/61105.Dr_Seuss', 'https://www.goodreads.com/author/show/2493.Lois_Lowry', 'https://www.goodreads.com/author/show/3472.Margaret_Atwood', 'https://www.goodreads.com/author/show/811.Yann_Martel', 'https://www.goodreads.com/author/show/239579.Charles_Dickens', 'https://www.goodreads.com/author/show/5152.Vladimir_Nabokov', 'https://www.goodreads.com/author/show/58.Frank_Herbert', 'https://www.goodreads.com/author/show/2778055.Kurt_Vonnegut_Jr_', 'https://www.goodreads.com/author/show/24556.Sara_Gruen', 'https://www.goodreads.com/author/show/1077326.J_K_Rowling', 'https://www.goodreads.com/author/show/4379.Sylvia_Plath', 'https://www.goodreads.com/author/show/3389.Stephen_King', 'https://www.goodreads.com/author/show/4273.Roald_Dahl', 'https://www.goodreads.com/author/show/3167.Joseph_Heller', 'https://www.goodreads.com/author/show/3447.Ken_Follett', 'https://www.goodreads.com/author/show/2448.Arthur_Conan_Doyle', 'https://www.goodreads.com/author/show/7717.Richard_Adams', 'https://www.goodreads.com/author/show/239579.Charles_Dickens', 'https://www.goodreads.com/author/show/2001717.Daphne_du_Maurier', 'https://www.goodreads.com/author/show/1077326.J_K_Rowling', 'https://www.goodreads.com/author/show/3617.Diana_Gabaldon', 'https://www.goodreads.com/author/show/706255.Stieg_Larsson', 'https://www.goodreads.com/author/show/7380.Alice_Walker', 'https://www.goodreads.com/author/show/7285.Ken_Kesey', 'https://www.goodreads.com/author/show/656983.J_R_R_Tolkien', 'https://www.goodreads.com/author/show/7128.Jodi_Picoult', 'https://www.goodreads.com/author/show/128382.Leo_Tolstoy', 'https://www.goodreads.com/author/show/3137322.Fyodor_Dostoevsky', 'https://www.goodreads.com/author/show/2327917.Betty_Smith', 'https://www.goodreads.com/author/show/5735.Anthony_Burgess', 'https://www.goodreads.com/author/show/4178.Cormac_McCarthy', 'https://www.goodreads.com/author/show/123715.Agatha_Christie', 'https://www.goodreads.com/author/show/3347.Frank_McCourt', 'https://www.goodreads.com/author/show/3618.Philip_Pullman', 'https://www.goodreads.com/author/show/137902.Richelle_Mead', 'https://www.goodreads.com/author/show/1113469.Hermann_Hesse', 'https://www.goodreads.com/author/show/1825.Harper_Lee', 'https://www.goodreads.com/author/show/3389.Stephen_King', 'https://www.goodreads.com/author/show/3389.Stephen_King', 'https://www.goodreads.com/author/show/4624490.Edgar_Allan_Poe', 'https://www.goodreads.com/author/show/7577.Anne_Rice', 'https://www.goodreads.com/author/show/4037220.Miguel_de_Cervantes_Saavedra', 'https://www.goodreads.com/author/show/3541.Barbara_Kingsolver']\n"
          ]
        }
      ]
    },
    {
      "cell_type": "code",
      "source": [
        "authorBirthDates = []\n",
        "\n",
        "# Extract author's birthdate\n",
        "for link in authorLink:\n",
        "    response_link = requests.get(link, headers=headers)\n",
        "    soup_link = BeautifulSoup(response_link.text, \"html.parser\")\n",
        "\n",
        "    birth_date_div = soup_link.find('div', itemprop='birthDate')\n",
        "\n",
        "    if birth_date_div:\n",
        "        birth_date_text = birth_date_div.get_text(strip=True)\n",
        "        authorBirthDates.append(birth_date_text)\n",
        "    else:\n",
        "        authorBirthDates.append('Birthdate not found')\n",
        "\n",
        "print(authorBirthDates)"
      ],
      "metadata": {
        "colab": {
          "base_uri": "https://localhost:8080/"
        },
        "id": "IvgvH2g3fhZY",
        "outputId": "76c487c9-80a8-43ef-9a59-b6fa35aa938e"
      },
      "execution_count": 138,
      "outputs": [
        {
          "output_type": "stream",
          "name": "stdout",
          "text": [
            "['August 11, 1962', 'July 31, 1965', 'December 16, 1775', 'April 28, 1926', 'June 23, 1975', 'December 24, 1973', 'June 25, 1903', 'January 03, 1892', 'Birthdate not found', 'Birthdate not found', 'October 16, 1854', 'November 08, 1900', 'September 25, 1930', 'July 30, 1818', 'January 25, 1970', 'April 21, 1816', 'Birthdate not found', 'September 24, 1896', 'June 29, 1900', 'Birthdate not found', 'January 27, 1832', 'December 06, 1956', 'Birthdate not found', 'November 11, 1821', 'February 26, 1802', 'September 19, 1911', 'Birthdate not found', 'November 30, 1874', 'Birthdate not found', 'Birthdate not found', 'August 24, 1951', 'November 08, 1847', 'July 11, 1899', 'February 27, 1902', 'March 11, 1952', 'Birthdate not found', 'January 01, 1919', 'August 22, 1920', 'July 26, 1894', 'March 06, 1927', 'Birthdate not found', 'March 04, 1965', 'August 12, 1931', 'November 24, 1849', 'July 31, 1965', 'September 20, 1948', 'Birthdate not found', 'November 29, 1918', 'November 29, 1832', 'June 25, 1903', 'Birthdate not found', 'March 04, 1965', 'August 30, 1797', 'September 06, 1963', 'November 30, 1835', 'June 10, 1928', 'July 31, 1965', 'March 02, 1904', 'Birthdate not found', 'Birthdate not found', 'June 25, 1963', 'February 07, 1812', 'April 22, 1899', 'October 08, 1920', 'November 11, 1922', 'Birthdate not found', 'July 31, 1965', 'October 27, 1932', 'Birthdate not found', 'September 13, 1916', 'May 01, 1923', 'Birthdate not found', 'May 22, 1859', 'May 09, 1920', 'February 07, 1812', 'May 13, 1907', 'July 31, 1965', 'Birthdate not found', 'August 15, 1954', 'February 09, 1944', 'September 17, 1935', 'January 03, 1892', 'Birthdate not found', 'September 09, 1828', 'November 11, 1821', 'December 15, 1896', 'February 25, 1917', 'July 20, 1933', 'September 15, 1890', 'August 19, 1930', 'October 19, 1946', 'Birthdate not found', 'July 02, 1877', 'April 28, 1926', 'Birthdate not found', 'Birthdate not found', 'January 19, 1809', 'October 04, 1941', 'July 11, 1547', 'April 08, 1955']\n"
          ]
        }
      ]
    },
    {
      "cell_type": "code",
      "source": [
        "df = pd.DataFrame(\n",
        "    {'Book Title 📚': bookTitle,\n",
        "     'Book Rank 🏆': bookRank,\n",
        "     'Book Link 🔗': bookLink,\n",
        "     'Author Name 👤': authorName,\n",
        "     'Author Link 🔗': authorLink,\n",
        "     'Author Birthdate 🎂': authorBirthDates}\n",
        "    )\n",
        "\n",
        "print (df.head())\n",
        "\n",
        "df.to_csv('goodreads.csv', index=False)"
      ],
      "metadata": {
        "colab": {
          "base_uri": "https://localhost:8080/"
        },
        "id": "1HkwLdsRgmha",
        "outputId": "beea4d92-063b-4c79-9093-c02bc87b191e"
      },
      "execution_count": 140,
      "outputs": [
        {
          "output_type": "stream",
          "name": "stdout",
          "text": [
            "                                        Book Title 📚 Book Rank 🏆  \\\n",
            "0        \\nThe Hunger Games (The Hunger Games, #1)\\n           1   \n",
            "1  \\nHarry Potter and the Order of the Phoenix (H...           2   \n",
            "2                            \\nPride and Prejudice\\n           3   \n",
            "3                          \\nTo Kill a Mockingbird\\n           4   \n",
            "4                                 \\nThe Book Thief\\n           5   \n",
            "\n",
            "                                         Book Link 🔗    Author Name 👤  \\\n",
            "0  https://www.goodreads.com//book/show/2767052-t...  Suzanne Collins   \n",
            "1  https://www.goodreads.com//book/show/2.Harry_P...     J.K. Rowling   \n",
            "2  https://www.goodreads.com//book/show/1885.Prid...      Jane Austen   \n",
            "3  https://www.goodreads.com//book/show/2657.To_K...       Harper Lee   \n",
            "4  https://www.goodreads.com//book/show/19063.The...     Markus Zusak   \n",
            "\n",
            "                                       Author Link 🔗 Author Birthdate 🎂  \n",
            "0  https://www.goodreads.com/author/show/153394.S...    August 11, 1962  \n",
            "1  https://www.goodreads.com/author/show/1077326....      July 31, 1965  \n",
            "2  https://www.goodreads.com/author/show/1265.Jan...  December 16, 1775  \n",
            "3  https://www.goodreads.com/author/show/1825.Har...     April 28, 1926  \n",
            "4  https://www.goodreads.com/author/show/11466.Ma...      June 23, 1975  \n"
          ]
        }
      ]
    }
  ]
}